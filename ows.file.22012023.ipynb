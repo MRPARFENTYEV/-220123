{
 "cells": [
  {
   "cell_type": "code",
   "execution_count": 12,
   "metadata": {},
   "outputs": [
    {
     "name": "stdout",
     "output_type": "stream",
     "text": [
      "{'Омлет': [{'ingredient_name': 'Яйцо', 'quantity': 2, 'measure': 'шт'}, {'ingredient_name': 'Молоко', 'quantity': 100, 'measure': 'мл'}, {'ingredient_name': 'Помидор', 'quantity': 2, 'measure': 'шт'}], 'Утка по-пекински': [{'ingredient_name': 'Утка', 'quantity': 1, 'measure': 'шт'}, {'ingredient_name': 'Вода', 'quantity': 2, 'measure': 'л'}, {'ingredient_name': 'Мед', 'quantity': 3, 'measure': 'ст.л'}, {'ingredient_name': 'Соевый соус', 'quantity': 60, 'measure': 'мл'}], 'Запеченный картофель': [{'ingredient_name': 'Картофель', 'quantity': 1, 'measure': 'кг'}, {'ingredient_name': 'Чеснок', 'quantity': 3, 'measure': 'зубч'}, {'ingredient_name': 'Сыр гауда', 'quantity': 100, 'measure': 'г'}], 'Фахитос': [{'ingredient_name': 'Говядина', 'quantity': 500, 'measure': 'г'}, {'ingredient_name': 'Перец сладкий', 'quantity': 1, 'measure': 'шт'}, {'ingredient_name': 'Лаваш', 'quantity': 2, 'measure': 'шт'}, {'ingredient_name': 'Винный уксус', 'quantity': 1, 'measure': 'ст.л'}, {'ingredient_name': 'Помидор', 'quantity': 2, 'measure': 'шт'}]}\n"
     ]
    }
   ],
   "source": [
    "def create_cook_book(filename):\n",
    "    book = {}\n",
    "    ingredient_info = []\n",
    "    with open(filename + \".txt\", \"r\", encoding=\"utf8\") as file:\n",
    "        ingredients = file.read().split('\\n\\n')\n",
    "        for ingredient in ingredients:\n",
    "            recipe = ingredient.split('\\n')\n",
    "            for i in range(int(recipe[1])):\n",
    "                info = recipe[i + 2]\n",
    "                ingredient_info.append(\n",
    "                    {\n",
    "                        'ingredient_name': info.split(' | ')[0],\n",
    "                        'quantity': int(info.split(' | ')[1]),\n",
    "                        'measure': info.split(' | ')[2]\n",
    "                     }\n",
    "                )\n",
    "\n",
    "            book.update([(recipe[0], ingredient_info)])\n",
    "            ingredient_info = []\n",
    "\n",
    "    return book\n",
    "    \n",
    "\n",
    "\n",
    "\n",
    "\n",
    "\n",
    "\n",
    "\n",
    "# print(ingredients_list)\n",
    "print(create_cook_book('data'))"
   ]
  },
  {
   "cell_type": "code",
   "execution_count": 13,
   "metadata": {},
   "outputs": [
    {
     "name": "stdout",
     "output_type": "stream",
     "text": [
      "{'Яйцо': {'measure': 'шт', 'quantity': 6}, 'Молоко': {'measure': 'мл', 'quantity': 300}, 'Помидор': {'measure': 'шт', 'quantity': 6}, 'Картофель': {'measure': 'кг', 'quantity': 3}, 'Чеснок': {'measure': 'зубч', 'quantity': 9}, 'Сыр гауда': {'measure': 'г', 'quantity': 300}}\n"
     ]
    }
   ],
   "source": [
    "def get_shop_list_by_dishes(dishes, count):\n",
    "    ingredients = {}\n",
    "    for dish in dishes:\n",
    "        for ingredient_info in cook_book[dish]:\n",
    "            if ingredient_info['ingredient_name'] in ingredients:\n",
    "                ingredients[ingredient_info['ingredient_name']]['quantity'] += ingredient_info['quantity'] * count\n",
    "            else:\n",
    "                ingredients.update([(\n",
    "                    ingredient_info['ingredient_name'],\n",
    "                    {'measure': ingredient_info['measure'], 'quantity': ingredient_info['quantity'] * count}\n",
    "                )])\n",
    "\n",
    "    return ingredients\n",
    "create_cook_book('data')\n",
    "ingredients_list = get_shop_list_by_dishes(['Омлет', 'Запеченный картофель'], 3)\n",
    "print(ingredients_list)"
   ]
  },
  {
   "cell_type": "code",
   "execution_count": 14,
   "metadata": {},
   "outputs": [
    {
     "name": "stdout",
     "output_type": "stream",
     "text": [
      "[{'filename': 'fileone.txt', 'rows_number': 8}, {'filename': 'filetwo.txt', 'rows_number': 1}, {'filename': 'filethree.txt', 'rows_number': 9}]\n",
      "[{'filename': 'filetwo.txt', 'rows_number': 1}, {'filename': 'fileone.txt', 'rows_number': 8}, {'filename': 'filethree.txt', 'rows_number': 9}]\n"
     ]
    }
   ],
   "source": [
    "def scan_files(files):\n",
    "    files_info = []\n",
    "    for filename in files:\n",
    "        with open(filename, \"r\", encoding=\"utf-8\") as file:\n",
    "            files_info.append(\n",
    "                {\n",
    "                    'filename': filename,\n",
    "                    'rows_number': len(file.read().split('\\n'))\n",
    "                }\n",
    "            )\n",
    "    return files_info\n",
    "\n",
    "\n",
    "def sort_files(files):\n",
    "    return sorted(files, key=lambda x: x['rows_number'])\n",
    "\n",
    "\n",
    "def write_files(files):\n",
    "    with open(\"result.txt\", \"w\", encoding=\"utf8\") as input_file:\n",
    "        for file_info in files:\n",
    "            # file_info = {'filename': '1.txt', 'rows_number': 8}\n",
    "            with open(file_info['filename'], \"r\", encoding=\"utf8\") as file:\n",
    "                input_file.write(\n",
    "                    file_info['filename'] + '\\n' + str(file_info['rows_number']) + '\\n' + file.read() + '\\n'\n",
    "                )\n",
    "\n",
    "\n",
    "# Запись информации о файлах в список\n",
    "files_list = scan_files(['fileone.txt', 'filetwo.txt', 'filethree.txt'])\n",
    "print(files_list)\n",
    "# Сортировка файлов по числу строк\n",
    "sorted_files = sort_files(files_list)\n",
    "print(sorted_files)\n",
    "\n",
    "# Запись файлов в один\n",
    "write_files(sorted_files)\n"
   ]
  }
 ],
 "metadata": {
  "kernelspec": {
   "display_name": "Python 3.10.5 64-bit",
   "language": "python",
   "name": "python3"
  },
  "language_info": {
   "codemirror_mode": {
    "name": "ipython",
    "version": 3
   },
   "file_extension": ".py",
   "mimetype": "text/x-python",
   "name": "python",
   "nbconvert_exporter": "python",
   "pygments_lexer": "ipython3",
   "version": "3.10.5"
  },
  "orig_nbformat": 4,
  "vscode": {
   "interpreter": {
    "hash": "4c8f9596289ce0e984631efc41e67aabdfb160e1cf60fb71bac4853a33c02268"
   }
  }
 },
 "nbformat": 4,
 "nbformat_minor": 2
}
